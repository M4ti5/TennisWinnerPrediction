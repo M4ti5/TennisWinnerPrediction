{
 "cells": [
  {
   "cell_type": "code",
   "execution_count": 1,
   "metadata": {},
   "outputs": [],
   "source": [
    "from pandas import concat , read_excel , DataFrame\n",
    "from numpy import array\n",
    "from glob import glob"
   ]
  },
  {
   "cell_type": "markdown",
   "metadata": {},
   "source": [
    "### Data"
   ]
  },
  {
   "cell_type": "code",
   "execution_count": 2,
   "metadata": {},
   "outputs": [
    {
     "name": "stderr",
     "output_type": "stream",
     "text": [
      "/Users/matis/miniforge3/lib/python3.9/site-packages/openpyxl/worksheet/_reader.py:312: UserWarning: Unknown extension is not supported and will be removed\n",
      "  warn(msg)\n"
     ]
    }
   ],
   "source": [
    "DATA_DIR = \"tennis_data\"\n",
    "ATP_DIR = './{}/ATP'.format(DATA_DIR)\n",
    "ATP_FILES = sorted(glob(\"%s/*.xls*\" % ATP_DIR))\n",
    "df_atp = concat([read_excel(f) for f in ATP_FILES], ignore_index=True)"
   ]
  },
  {
   "cell_type": "markdown",
   "metadata": {},
   "source": [
    "#### Data Processing"
   ]
  },
  {
   "cell_type": "code",
   "execution_count": 3,
   "metadata": {},
   "outputs": [],
   "source": [
    "def toPlayerDict (df : DataFrame) -> dict :\n",
    "    \"\"\"\n",
    "    Vectorisation of players\n",
    "    return: dict of players \n",
    "        ex: {\"Mister X.\" : 0, ...}\n",
    "    \"\"\"\n",
    "    players : dict = dict()\n",
    "\n",
    "    for match in range(len(df)):\n",
    "        winner : str = df.loc[match, \"Winner\"]\n",
    "        loser : str = df.loc[match, \"Loser\"]\n",
    "        if winner not in players:\n",
    "            players[winner] = len(players)\n",
    "        if loser not in players:\n",
    "            players[loser] = len(players)\n",
    "\n",
    "    return players"
   ]
  },
  {
   "cell_type": "code",
   "execution_count": 4,
   "metadata": {},
   "outputs": [],
   "source": [
    "def statMatchPlayer (df : DataFrame, previousDict : array(dict, dict) = None) :\n",
    "    \"\"\"\n",
    "        Compute win's game or game have been played by player\n",
    "        return : array of  two dicts  : [0] = playedMatch , [1] = winMatch\n",
    "    \"\"\"\n",
    "    if  previousDict != None:                       #Continue the progression\n",
    "        playedMatch = previousDict[0]\n",
    "        winMatch = previousDict[1]\n",
    "    else :                                          #Start at the beginning\n",
    "        playedMatch = dict()\n",
    "        winMatch = dict()\n",
    "\n",
    "    match = sum(winMatch.values())\n",
    "\n",
    "    winner : str = df.loc[match, \"Winner\"]\n",
    "    loser : str  = df.loc[match, \"Loser\"]\n",
    "\n",
    "    if winner in playedMatch :\n",
    "        playedMatch[winner] += 1\n",
    "        winMatch[winner] += 1\n",
    "    else :\n",
    "        playedMatch[winner] = 1\n",
    "        winMatch[winner] = 1\n",
    "        \n",
    "    if loser in playedMatch :\n",
    "        playedMatch[loser] += 1\n",
    "    else : \n",
    "        playedMatch[loser] = 1\n",
    "        winMatch[loser] = 0\n",
    "\n",
    "    return (playedMatch , winMatch)\n",
    "\n",
    "#statMatchPlayer(df_atp) # step 1\n",
    "#statMatchPlayer(df_atp, statMatchPlayer(df_atp)) #step 2"
   ]
  },
  {
   "cell_type": "code",
   "execution_count": 5,
   "metadata": {},
   "outputs": [],
   "source": [
    "def DataFrameStatusMaker (df : DataFrame):\n",
    "    \"\"\"\n",
    "    Compute few things like ratio or game have been played by player\n",
    "    return : DataFrame\n",
    "    \"\"\"\n",
    "    data : list = []\n",
    "    dictStatus : tuple(dict,dict) = statMatchPlayer(df)\n",
    "    for match in range (len(df)):\n",
    "        if match != 0:\n",
    "            dictStatus = statMatchPlayer(df, dictStatus)\n",
    "\n",
    "        J1 : str = df.loc[match, \"Winner\"]\n",
    "        J2 : str  = df.loc[match, \"Loser\"]\n",
    "\n",
    "        ratioJ1: float = 0\n",
    "        ratioJ2: float = 0\n",
    "\n",
    "        #Case of : divided by zero\n",
    "        if dictStatus[0][J1] - 1 > 0 :\n",
    "            ratioJ1: float = (dictStatus[1][J1] - 1 )/(dictStatus[0][J1] - 1)\n",
    "        if dictStatus[0][J2] - 1 > 0 :\n",
    "            ratioJ2: float = (dictStatus[1][J2] - 1 )/(dictStatus[0][J2] - 1)\n",
    "\n",
    "\n",
    "        data.append([   ratioJ1,                # Ratio J1\n",
    "                        ratioJ2,                # Ratio J2\n",
    "                        (dictStatus[0][J1] - 1 ), # Nb Macth J1\n",
    "                        (dictStatus[0][J2] - 1 )  # Nb Match J2\n",
    "                    ])\n",
    "\n",
    "\n",
    "    return DataFrame(    array(data), \n",
    "                            columns=[\"Ratio_J1\" ,\"Ratio_J2\",\"NbMatch_J1\", \"NbMatch_J2\"\n",
    "                        ])"
   ]
  },
  {
   "cell_type": "code",
   "execution_count": 6,
   "metadata": {},
   "outputs": [],
   "source": [
    "def renameClassInOneHot (df : DataFrame, dictPlayer : dict , inplace = False ) -> DataFrame :\n",
    "    \"\"\"\n",
    "    Rename Player name by number class \n",
    "    return : DataFrame\n",
    "    \"\"\"\n",
    "    if inplace:\n",
    "        tempDf : DataFrame = df\n",
    "    else: \n",
    "        tempDf : DataFrame = df.copy()\n",
    "\n",
    "    for match in range (len(tempDf)):\n",
    "        J1 : str = tempDf.loc[match, \"J1\"]\n",
    "        J2 : str = tempDf.loc[match, \"J2\"]\n",
    "        tempDf.loc[match, \"J1\"] = dictPlayer[J1]\n",
    "        tempDf.loc[match, \"J2\"] = dictPlayer[J2]\n",
    "        tempDf.loc[match, \"Winner\"] = dictPlayer[J1]\n",
    "\n",
    "    return tempDf    "
   ]
  },
  {
   "cell_type": "code",
   "execution_count": 7,
   "metadata": {},
   "outputs": [],
   "source": [
    "def reRanking (df : DataFrame) -> None:  \n",
    "    \"\"\"\n",
    "    Reranking players haven't rank to 10000\n",
    "    \"\"\"\n",
    "    for match in range (len(df)):\n",
    "        if str(df.loc[match, \"J1_Rank\"]) == \"NR\" or str(df.loc[match, \"J1_Rank\"]) == \"nan\":\n",
    "            df.loc[match, \"J1_Rank\"] = 10000\n",
    "\n",
    "        if str(df.loc[match, \"J2_Rank\"]) == \"NR\" or str(df.loc[match, \"J2_Rank\"]) == \"nan\":\n",
    "            df.loc[match, \"J2_Rank\"] = 10000"
   ]
  },
  {
   "cell_type": "markdown",
   "metadata": {},
   "source": [
    "**Structure de DataFrame**\n",
    "\n",
    "date | J1 | J2 | Rank J1 | Rank J2 | WinRatio J1 | WinRatio J2 | NbMatch J1 | NbMatch J2 | Winner"
   ]
  },
  {
   "cell_type": "code",
   "execution_count": 8,
   "metadata": {},
   "outputs": [],
   "source": [
    "def DataFrameMaker(df: DataFrame) -> DataFrame:\n",
    "    \"\"\"\n",
    "    Make the final DataFrame for explotation\n",
    "    return : DataFrame\n",
    "    \"\"\"\n",
    "    dictPlayer : dict = toPlayerDict(df)\n",
    "\n",
    "    DataFrame : DataFrame =  concat([df[\"Date\"], df[\"Winner\"], df[\"Loser\"], df[\"WRank\"], df[\"LRank\"], DataFrameStatusMaker(df), df[\"Winner\"]], axis=1)\n",
    "    DataFrame.columns = [\"Date\", \"J1\", \"J2\", \"J1_Rank\", \"J2_Rank\", \"Ratio_J1\", \"Ratio_J2\", \"NbMatch_J1\" , \"NbMatch_J2\" , \"Winner\"]\n",
    "    DataFrame = renameClassInOneHot(DataFrame, dictPlayer)\n",
    "\n",
    "    reRanking(DataFrame)    #Reatribute value of non-ranked person -> 10000\n",
    "\n",
    "    ## TO DO : Random Switch between J1 & J2 to dodge overfitting on position dataset \n",
    "\n",
    "    #DataFrame.set_index('Date', inplace=True)\n",
    "    return DataFrame"
   ]
  },
  {
   "cell_type": "code",
   "execution_count": 9,
   "metadata": {},
   "outputs": [
    {
     "data": {
      "text/html": [
       "<div>\n",
       "<style scoped>\n",
       "    .dataframe tbody tr th:only-of-type {\n",
       "        vertical-align: middle;\n",
       "    }\n",
       "\n",
       "    .dataframe tbody tr th {\n",
       "        vertical-align: top;\n",
       "    }\n",
       "\n",
       "    .dataframe thead th {\n",
       "        text-align: right;\n",
       "    }\n",
       "</style>\n",
       "<table border=\"1\" class=\"dataframe\">\n",
       "  <thead>\n",
       "    <tr style=\"text-align: right;\">\n",
       "      <th></th>\n",
       "      <th>Date</th>\n",
       "      <th>J1</th>\n",
       "      <th>J2</th>\n",
       "      <th>J1_Rank</th>\n",
       "      <th>J2_Rank</th>\n",
       "      <th>Ratio_J1</th>\n",
       "      <th>Ratio_J2</th>\n",
       "      <th>NbMatch_J1</th>\n",
       "      <th>NbMatch_J2</th>\n",
       "      <th>Winner</th>\n",
       "    </tr>\n",
       "  </thead>\n",
       "  <tbody>\n",
       "    <tr>\n",
       "      <th>0</th>\n",
       "      <td>2000-01-03</td>\n",
       "      <td>0</td>\n",
       "      <td>1</td>\n",
       "      <td>63</td>\n",
       "      <td>77</td>\n",
       "      <td>0.000000</td>\n",
       "      <td>0.000000</td>\n",
       "      <td>0.0</td>\n",
       "      <td>0.0</td>\n",
       "      <td>0</td>\n",
       "    </tr>\n",
       "    <tr>\n",
       "      <th>1</th>\n",
       "      <td>2000-01-03</td>\n",
       "      <td>2</td>\n",
       "      <td>3</td>\n",
       "      <td>5</td>\n",
       "      <td>56</td>\n",
       "      <td>0.000000</td>\n",
       "      <td>0.000000</td>\n",
       "      <td>0.0</td>\n",
       "      <td>0.0</td>\n",
       "      <td>2</td>\n",
       "    </tr>\n",
       "    <tr>\n",
       "      <th>2</th>\n",
       "      <td>2000-01-03</td>\n",
       "      <td>4</td>\n",
       "      <td>5</td>\n",
       "      <td>40</td>\n",
       "      <td>655</td>\n",
       "      <td>0.000000</td>\n",
       "      <td>0.000000</td>\n",
       "      <td>0.0</td>\n",
       "      <td>0.0</td>\n",
       "      <td>4</td>\n",
       "    </tr>\n",
       "    <tr>\n",
       "      <th>3</th>\n",
       "      <td>2000-01-03</td>\n",
       "      <td>6</td>\n",
       "      <td>7</td>\n",
       "      <td>65</td>\n",
       "      <td>87</td>\n",
       "      <td>0.000000</td>\n",
       "      <td>0.000000</td>\n",
       "      <td>0.0</td>\n",
       "      <td>0.0</td>\n",
       "      <td>6</td>\n",
       "    </tr>\n",
       "    <tr>\n",
       "      <th>4</th>\n",
       "      <td>2000-01-03</td>\n",
       "      <td>8</td>\n",
       "      <td>9</td>\n",
       "      <td>81</td>\n",
       "      <td>198</td>\n",
       "      <td>0.000000</td>\n",
       "      <td>0.000000</td>\n",
       "      <td>0.0</td>\n",
       "      <td>0.0</td>\n",
       "      <td>8</td>\n",
       "    </tr>\n",
       "    <tr>\n",
       "      <th>...</th>\n",
       "      <td>...</td>\n",
       "      <td>...</td>\n",
       "      <td>...</td>\n",
       "      <td>...</td>\n",
       "      <td>...</td>\n",
       "      <td>...</td>\n",
       "      <td>...</td>\n",
       "      <td>...</td>\n",
       "      <td>...</td>\n",
       "      <td>...</td>\n",
       "    </tr>\n",
       "    <tr>\n",
       "      <th>52293</th>\n",
       "      <td>2018-11-16</td>\n",
       "      <td>1216</td>\n",
       "      <td>831</td>\n",
       "      <td>5</td>\n",
       "      <td>10.0</td>\n",
       "      <td>0.664032</td>\n",
       "      <td>0.621035</td>\n",
       "      <td>253.0</td>\n",
       "      <td>599.0</td>\n",
       "      <td>1216</td>\n",
       "    </tr>\n",
       "    <tr>\n",
       "      <th>52294</th>\n",
       "      <td>2018-11-16</td>\n",
       "      <td>645</td>\n",
       "      <td>701</td>\n",
       "      <td>1</td>\n",
       "      <td>7.0</td>\n",
       "      <td>0.829876</td>\n",
       "      <td>0.650585</td>\n",
       "      <td>964.0</td>\n",
       "      <td>684.0</td>\n",
       "      <td>645</td>\n",
       "    </tr>\n",
       "    <tr>\n",
       "      <th>52295</th>\n",
       "      <td>2018-11-17</td>\n",
       "      <td>1216</td>\n",
       "      <td>6</td>\n",
       "      <td>5</td>\n",
       "      <td>3.0</td>\n",
       "      <td>0.665354</td>\n",
       "      <td>0.828402</td>\n",
       "      <td>254.0</td>\n",
       "      <td>1352.0</td>\n",
       "      <td>1216</td>\n",
       "    </tr>\n",
       "    <tr>\n",
       "      <th>52296</th>\n",
       "      <td>2018-11-17</td>\n",
       "      <td>645</td>\n",
       "      <td>838</td>\n",
       "      <td>1</td>\n",
       "      <td>6.0</td>\n",
       "      <td>0.830052</td>\n",
       "      <td>0.587902</td>\n",
       "      <td>965.0</td>\n",
       "      <td>529.0</td>\n",
       "      <td>645</td>\n",
       "    </tr>\n",
       "    <tr>\n",
       "      <th>52297</th>\n",
       "      <td>2018-11-18</td>\n",
       "      <td>1216</td>\n",
       "      <td>645</td>\n",
       "      <td>5</td>\n",
       "      <td>1.0</td>\n",
       "      <td>0.666667</td>\n",
       "      <td>0.829193</td>\n",
       "      <td>255.0</td>\n",
       "      <td>966.0</td>\n",
       "      <td>1216</td>\n",
       "    </tr>\n",
       "  </tbody>\n",
       "</table>\n",
       "<p>52298 rows × 10 columns</p>\n",
       "</div>"
      ],
      "text/plain": [
       "            Date    J1   J2 J1_Rank J2_Rank  Ratio_J1  Ratio_J2  NbMatch_J1  \\\n",
       "0     2000-01-03     0    1      63      77  0.000000  0.000000         0.0   \n",
       "1     2000-01-03     2    3       5      56  0.000000  0.000000         0.0   \n",
       "2     2000-01-03     4    5      40     655  0.000000  0.000000         0.0   \n",
       "3     2000-01-03     6    7      65      87  0.000000  0.000000         0.0   \n",
       "4     2000-01-03     8    9      81     198  0.000000  0.000000         0.0   \n",
       "...          ...   ...  ...     ...     ...       ...       ...         ...   \n",
       "52293 2018-11-16  1216  831       5    10.0  0.664032  0.621035       253.0   \n",
       "52294 2018-11-16   645  701       1     7.0  0.829876  0.650585       964.0   \n",
       "52295 2018-11-17  1216    6       5     3.0  0.665354  0.828402       254.0   \n",
       "52296 2018-11-17   645  838       1     6.0  0.830052  0.587902       965.0   \n",
       "52297 2018-11-18  1216  645       5     1.0  0.666667  0.829193       255.0   \n",
       "\n",
       "       NbMatch_J2 Winner  \n",
       "0             0.0      0  \n",
       "1             0.0      2  \n",
       "2             0.0      4  \n",
       "3             0.0      6  \n",
       "4             0.0      8  \n",
       "...           ...    ...  \n",
       "52293       599.0   1216  \n",
       "52294       684.0    645  \n",
       "52295      1352.0   1216  \n",
       "52296       529.0    645  \n",
       "52297       966.0   1216  \n",
       "\n",
       "[52298 rows x 10 columns]"
      ]
     },
     "execution_count": 9,
     "metadata": {},
     "output_type": "execute_result"
    }
   ],
   "source": [
    "t = DataFrameMaker(df_atp)\n",
    "t"
   ]
  },
  {
   "cell_type": "markdown",
   "metadata": {},
   "source": [
    "#### Modification D'instance du Dataset"
   ]
  },
  {
   "cell_type": "code",
   "execution_count": 10,
   "metadata": {},
   "outputs": [],
   "source": [
    "temp = t.copy()\n",
    "del temp[\"Date\"]\n",
    "temp = temp.astype(float)\n",
    "y  = temp[\"Winner\"]\n",
    "del temp[\"Winner\"]\n",
    "X = temp"
   ]
  },
  {
   "cell_type": "code",
   "execution_count": 11,
   "metadata": {},
   "outputs": [
    {
     "data": {
      "text/html": [
       "<div>\n",
       "<style scoped>\n",
       "    .dataframe tbody tr th:only-of-type {\n",
       "        vertical-align: middle;\n",
       "    }\n",
       "\n",
       "    .dataframe tbody tr th {\n",
       "        vertical-align: top;\n",
       "    }\n",
       "\n",
       "    .dataframe thead th {\n",
       "        text-align: right;\n",
       "    }\n",
       "</style>\n",
       "<table border=\"1\" class=\"dataframe\">\n",
       "  <thead>\n",
       "    <tr style=\"text-align: right;\">\n",
       "      <th></th>\n",
       "      <th>J1</th>\n",
       "      <th>J2</th>\n",
       "      <th>J1_Rank</th>\n",
       "      <th>J2_Rank</th>\n",
       "      <th>Ratio_J1</th>\n",
       "      <th>Ratio_J2</th>\n",
       "      <th>NbMatch_J1</th>\n",
       "      <th>NbMatch_J2</th>\n",
       "    </tr>\n",
       "  </thead>\n",
       "  <tbody>\n",
       "    <tr>\n",
       "      <th>0</th>\n",
       "      <td>0.0</td>\n",
       "      <td>1.0</td>\n",
       "      <td>63.0</td>\n",
       "      <td>77.0</td>\n",
       "      <td>0.000000</td>\n",
       "      <td>0.000000</td>\n",
       "      <td>0.0</td>\n",
       "      <td>0.0</td>\n",
       "    </tr>\n",
       "    <tr>\n",
       "      <th>1</th>\n",
       "      <td>2.0</td>\n",
       "      <td>3.0</td>\n",
       "      <td>5.0</td>\n",
       "      <td>56.0</td>\n",
       "      <td>0.000000</td>\n",
       "      <td>0.000000</td>\n",
       "      <td>0.0</td>\n",
       "      <td>0.0</td>\n",
       "    </tr>\n",
       "    <tr>\n",
       "      <th>2</th>\n",
       "      <td>4.0</td>\n",
       "      <td>5.0</td>\n",
       "      <td>40.0</td>\n",
       "      <td>655.0</td>\n",
       "      <td>0.000000</td>\n",
       "      <td>0.000000</td>\n",
       "      <td>0.0</td>\n",
       "      <td>0.0</td>\n",
       "    </tr>\n",
       "    <tr>\n",
       "      <th>3</th>\n",
       "      <td>6.0</td>\n",
       "      <td>7.0</td>\n",
       "      <td>65.0</td>\n",
       "      <td>87.0</td>\n",
       "      <td>0.000000</td>\n",
       "      <td>0.000000</td>\n",
       "      <td>0.0</td>\n",
       "      <td>0.0</td>\n",
       "    </tr>\n",
       "    <tr>\n",
       "      <th>4</th>\n",
       "      <td>8.0</td>\n",
       "      <td>9.0</td>\n",
       "      <td>81.0</td>\n",
       "      <td>198.0</td>\n",
       "      <td>0.000000</td>\n",
       "      <td>0.000000</td>\n",
       "      <td>0.0</td>\n",
       "      <td>0.0</td>\n",
       "    </tr>\n",
       "    <tr>\n",
       "      <th>...</th>\n",
       "      <td>...</td>\n",
       "      <td>...</td>\n",
       "      <td>...</td>\n",
       "      <td>...</td>\n",
       "      <td>...</td>\n",
       "      <td>...</td>\n",
       "      <td>...</td>\n",
       "      <td>...</td>\n",
       "    </tr>\n",
       "    <tr>\n",
       "      <th>52293</th>\n",
       "      <td>1216.0</td>\n",
       "      <td>831.0</td>\n",
       "      <td>5.0</td>\n",
       "      <td>10.0</td>\n",
       "      <td>0.664032</td>\n",
       "      <td>0.621035</td>\n",
       "      <td>253.0</td>\n",
       "      <td>599.0</td>\n",
       "    </tr>\n",
       "    <tr>\n",
       "      <th>52294</th>\n",
       "      <td>645.0</td>\n",
       "      <td>701.0</td>\n",
       "      <td>1.0</td>\n",
       "      <td>7.0</td>\n",
       "      <td>0.829876</td>\n",
       "      <td>0.650585</td>\n",
       "      <td>964.0</td>\n",
       "      <td>684.0</td>\n",
       "    </tr>\n",
       "    <tr>\n",
       "      <th>52295</th>\n",
       "      <td>1216.0</td>\n",
       "      <td>6.0</td>\n",
       "      <td>5.0</td>\n",
       "      <td>3.0</td>\n",
       "      <td>0.665354</td>\n",
       "      <td>0.828402</td>\n",
       "      <td>254.0</td>\n",
       "      <td>1352.0</td>\n",
       "    </tr>\n",
       "    <tr>\n",
       "      <th>52296</th>\n",
       "      <td>645.0</td>\n",
       "      <td>838.0</td>\n",
       "      <td>1.0</td>\n",
       "      <td>6.0</td>\n",
       "      <td>0.830052</td>\n",
       "      <td>0.587902</td>\n",
       "      <td>965.0</td>\n",
       "      <td>529.0</td>\n",
       "    </tr>\n",
       "    <tr>\n",
       "      <th>52297</th>\n",
       "      <td>1216.0</td>\n",
       "      <td>645.0</td>\n",
       "      <td>5.0</td>\n",
       "      <td>1.0</td>\n",
       "      <td>0.666667</td>\n",
       "      <td>0.829193</td>\n",
       "      <td>255.0</td>\n",
       "      <td>966.0</td>\n",
       "    </tr>\n",
       "  </tbody>\n",
       "</table>\n",
       "<p>52298 rows × 8 columns</p>\n",
       "</div>"
      ],
      "text/plain": [
       "           J1     J2  J1_Rank  J2_Rank  Ratio_J1  Ratio_J2  NbMatch_J1  \\\n",
       "0         0.0    1.0     63.0     77.0  0.000000  0.000000         0.0   \n",
       "1         2.0    3.0      5.0     56.0  0.000000  0.000000         0.0   \n",
       "2         4.0    5.0     40.0    655.0  0.000000  0.000000         0.0   \n",
       "3         6.0    7.0     65.0     87.0  0.000000  0.000000         0.0   \n",
       "4         8.0    9.0     81.0    198.0  0.000000  0.000000         0.0   \n",
       "...       ...    ...      ...      ...       ...       ...         ...   \n",
       "52293  1216.0  831.0      5.0     10.0  0.664032  0.621035       253.0   \n",
       "52294   645.0  701.0      1.0      7.0  0.829876  0.650585       964.0   \n",
       "52295  1216.0    6.0      5.0      3.0  0.665354  0.828402       254.0   \n",
       "52296   645.0  838.0      1.0      6.0  0.830052  0.587902       965.0   \n",
       "52297  1216.0  645.0      5.0      1.0  0.666667  0.829193       255.0   \n",
       "\n",
       "       NbMatch_J2  \n",
       "0             0.0  \n",
       "1             0.0  \n",
       "2             0.0  \n",
       "3             0.0  \n",
       "4             0.0  \n",
       "...           ...  \n",
       "52293       599.0  \n",
       "52294       684.0  \n",
       "52295      1352.0  \n",
       "52296       529.0  \n",
       "52297       966.0  \n",
       "\n",
       "[52298 rows x 8 columns]"
      ]
     },
     "execution_count": 11,
     "metadata": {},
     "output_type": "execute_result"
    }
   ],
   "source": [
    "X"
   ]
  },
  {
   "cell_type": "markdown",
   "metadata": {},
   "source": [
    "### Modèle  -  Random Forest"
   ]
  },
  {
   "cell_type": "code",
   "execution_count": 12,
   "metadata": {},
   "outputs": [],
   "source": [
    "# ML Libraries\n",
    "from sklearn.ensemble import RandomForestClassifier\n",
    "from sklearn.metrics import accuracy_score , recall_score, confusion_matrix , f1_score\n",
    "from sklearn.model_selection import train_test_split\n",
    "\n",
    "# Visual\n",
    "from matplotlib import pyplot as plt\n",
    "\n",
    "# Compute\n",
    "import numpy as np"
   ]
  },
  {
   "cell_type": "code",
   "execution_count": 13,
   "metadata": {},
   "outputs": [],
   "source": [
    "X_train, X_test, y_train, y_test = train_test_split(X, y, test_size=0.33, random_state=42)"
   ]
  },
  {
   "cell_type": "code",
   "execution_count": 14,
   "metadata": {},
   "outputs": [
    {
     "data": {
      "text/plain": [
       "RandomForestClassifier(criterion='entropy', max_depth=20, max_features='log2',\n",
       "                       random_state=1)"
      ]
     },
     "execution_count": 14,
     "metadata": {},
     "output_type": "execute_result"
    }
   ],
   "source": [
    "clf = RandomForestClassifier(max_depth=20, random_state=1, criterion=\"entropy\", max_features=\"log2\")\n",
    "clf.fit(X_train, y_train)"
   ]
  },
  {
   "cell_type": "markdown",
   "metadata": {},
   "source": [
    "#### Mesures"
   ]
  },
  {
   "cell_type": "code",
   "execution_count": 15,
   "metadata": {},
   "outputs": [],
   "source": [
    "preds = clf.predict(X_test)"
   ]
  },
  {
   "cell_type": "markdown",
   "metadata": {},
   "source": [
    "##### Justesse (Accuracy)"
   ]
  },
  {
   "cell_type": "code",
   "execution_count": 16,
   "metadata": {},
   "outputs": [
    {
     "data": {
      "text/plain": [
       "0.9410742221449678"
      ]
     },
     "execution_count": 16,
     "metadata": {},
     "output_type": "execute_result"
    }
   ],
   "source": [
    "accuracy_score(y_test, preds)"
   ]
  },
  {
   "cell_type": "markdown",
   "metadata": {},
   "source": [
    "##### Rappel (Recall)"
   ]
  },
  {
   "cell_type": "code",
   "execution_count": 17,
   "metadata": {},
   "outputs": [
    {
     "data": {
      "text/plain": [
       "0.9410742221449678"
      ]
     },
     "execution_count": 17,
     "metadata": {},
     "output_type": "execute_result"
    }
   ],
   "source": [
    "recall_score(y_test, preds, average=\"weighted\", zero_division = 1)"
   ]
  },
  {
   "cell_type": "markdown",
   "metadata": {},
   "source": [
    "##### F Score"
   ]
  },
  {
   "cell_type": "code",
   "execution_count": 18,
   "metadata": {},
   "outputs": [
    {
     "data": {
      "text/plain": [
       "0.9382062399943855"
      ]
     },
     "execution_count": 18,
     "metadata": {},
     "output_type": "execute_result"
    }
   ],
   "source": [
    "f1 = f1_score(y_test, preds, average=\"weighted\")\n",
    "f1"
   ]
  },
  {
   "cell_type": "markdown",
   "metadata": {},
   "source": [
    "##### Matrice de confusion"
   ]
  },
  {
   "cell_type": "code",
   "execution_count": 19,
   "metadata": {},
   "outputs": [
    {
     "data": {
      "text/plain": [
       "array([[  3,   2,   0, ...,   0,   0,   0],\n",
       "       [  1, 126,   0, ...,   0,   0,   0],\n",
       "       [  0,   0,  39, ...,   0,   0,   0],\n",
       "       ...,\n",
       "       [  0,   0,   0, ...,   0,   0,   0],\n",
       "       [  0,   0,   0, ...,   0,   0,   0],\n",
       "       [  0,   0,   0, ...,   0,   0,   0]])"
      ]
     },
     "execution_count": 19,
     "metadata": {},
     "output_type": "execute_result"
    }
   ],
   "source": [
    "z = confusion_matrix(y_test, preds)\n",
    "z"
   ]
  },
  {
   "cell_type": "code",
   "execution_count": 20,
   "metadata": {},
   "outputs": [
    {
     "data": {
      "image/png": "[encoded data removed]",
      "text/plain": [
       "<Figure size 432x288 with 1 Axes>"
      ]
     },
     "metadata": {
      "needs_background": "light"
     },
     "output_type": "display_data"
    }
   ],
   "source": [
    "plt.imshow(z, interpolation='nearest')\n",
    "plt.show()"
   ]
  }
 ],
 "metadata": {
  "interpreter": {
   "hash": "567fb3fb249875b7da374088a9a308b573430b459dcda7af537cd6e8af06a136"
  },
  "kernelspec": {
   "display_name": "Python 3.9.7 ('base')",
   "language": "python",
   "name": "python3"
  },
  "language_info": {
   "codemirror_mode": {
    "name": "ipython",
    "version": 3
   },
   "file_extension": ".py",
   "mimetype": "text/x-python",
   "name": "python",
   "nbconvert_exporter": "python",
   "pygments_lexer": "ipython3",
   "version": "3.9.7"
  }
 },
 "nbformat": 4,
 "nbformat_minor": 2
}
